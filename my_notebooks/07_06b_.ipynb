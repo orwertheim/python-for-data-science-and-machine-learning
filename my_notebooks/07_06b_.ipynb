{
 "cells": [
  {
   "cell_type": "markdown",
   "metadata": {},
   "source": [
    "## Web scraping"
   ]
  },
  {
   "cell_type": "code",
   "metadata": {
    "ExecuteTime": {
     "end_time": "2024-09-18T13:10:41.769197Z",
     "start_time": "2024-09-18T13:10:41.765923Z"
    }
   },
   "source": [
    "from bs4 import BeautifulSoup\n",
    "import urllib.request\n",
    "from IPython.display import HTML\n",
    "import re\n"
   ],
   "outputs": [],
   "execution_count": 21
  },
  {
   "metadata": {
    "ExecuteTime": {
     "end_time": "2024-09-18T13:10:41.910655Z",
     "start_time": "2024-09-18T13:10:41.786222Z"
    }
   },
   "cell_type": "code",
   "source": [
    "r = urllib.request.urlopen('http://analytics.usa.gov/').read()\n",
    "soup = BeautifulSoup(r, 'html.parser')\n",
    "type(soup)"
   ],
   "outputs": [
    {
     "data": {
      "text/plain": [
       "bs4.BeautifulSoup"
      ]
     },
     "execution_count": 22,
     "metadata": {},
     "output_type": "execute_result"
    }
   ],
   "execution_count": 22
  },
  {
   "cell_type": "markdown",
   "metadata": {},
   "source": [
    "### Scraping a webpage and saving your results\n"
   ]
  },
  {
   "metadata": {
    "ExecuteTime": {
     "end_time": "2024-09-18T13:10:41.918590Z",
     "start_time": "2024-09-18T13:10:41.912518Z"
    }
   },
   "cell_type": "code",
   "source": "print(soup.prettify()[:100])",
   "outputs": [
    {
     "name": "stdout",
     "output_type": "stream",
     "text": [
      "<!DOCTYPE html>\n",
      "<html lang=\"en\">\n",
      " <!-- Initalize title and data source variables -->\n",
      " <head>\n",
      "  <!--\n",
      "\n"
     ]
    }
   ],
   "execution_count": 23
  },
  {
   "metadata": {
    "ExecuteTime": {
     "end_time": "2024-09-18T13:11:06.845200Z",
     "start_time": "2024-09-18T13:11:06.833413Z"
    }
   },
   "cell_type": "code",
   "source": [
    "\n",
    "for link in soup.findAll('link'):\n",
    "    print(link.get('href'))"
   ],
   "outputs": [
    {
     "name": "stdout",
     "output_type": "stream",
     "text": [
      "/css/styles.css\n",
      "/images/analytics-favicon.ico\n",
      "https://analytics.usa.gov\n"
     ]
    }
   ],
   "execution_count": 27
  },
  {
   "metadata": {
    "ExecuteTime": {
     "end_time": "2024-09-18T13:10:41.930429Z",
     "start_time": "2024-09-18T13:10:41.927289Z"
    }
   },
   "cell_type": "code",
   "source": "print(soup.get_text())",
   "outputs": [
    {
     "name": "stdout",
     "output_type": "stream",
     "text": [
      "\n",
      "\n",
      "\n",
      "\n",
      "\n",
      "\n",
      "\n",
      "\n",
      "\n",
      "\n",
      "\n",
      "\n",
      "\n",
      "\n",
      "\n",
      "\n",
      "analytics.usa.gov | The US government's web traffic.\n",
      "\n",
      "\n",
      "\n",
      "\n",
      "\n",
      "\n",
      "\n",
      "\n",
      "\n",
      "\n",
      "\n",
      "\n",
      "\n",
      "\n",
      "\n",
      "\n",
      "\n",
      "\n",
      "\n",
      "\n",
      "\n",
      "            An official website of the United States government\n",
      "          \n",
      "Here’s how you know\n",
      "\n",
      "\n",
      "Here’s how you know\n",
      "\n",
      "\n",
      "\n",
      "\n",
      "\n",
      "\n",
      "\n",
      "\n",
      "\n",
      "Official websites use .govA\n",
      "              .gov website belongs to an official government\n",
      "              organization in the United States.\n",
      "            \n",
      "\n",
      "\n",
      "\n",
      "\n",
      "\n",
      "\n",
      "Secure .gov websites use HTTPSA\n",
      "              lock (\n",
      "              \n",
      "Lock\n",
      "\n",
      "                    Locked padlock icon\n",
      "                  \n",
      "\n",
      " ) or https:// means you’ve safely connected to\n",
      "              the .gov website. Share sensitive information only on official,\n",
      "              secure websites.\n",
      "            \n",
      "\n",
      "\n",
      "\n",
      "\n",
      "\n",
      "\n",
      "\n",
      "\n",
      "\n",
      " analytics.usa.gov \n",
      "\n",
      "\n",
      "\n",
      "\n",
      "\n",
      "\n",
      "About\n",
      "•\n",
      "\n",
      "\n",
      "Definitions\n",
      "•\n",
      "\n",
      "\n",
      "Data\n",
      "•\n",
      "API\n",
      "\n",
      "\n",
      "\n",
      "\n",
      "\n",
      "\n",
      "\n",
      "\n",
      "\n",
      "\n",
      "\n",
      "\n",
      "\n",
      "\n",
      "\n",
      "\n"
     ]
    }
   ],
   "execution_count": 25
  },
  {
   "metadata": {
    "ExecuteTime": {
     "end_time": "2024-09-18T13:10:41.939620Z",
     "start_time": "2024-09-18T13:10:41.931831Z"
    }
   },
   "cell_type": "code",
   "source": "print(soup.prettify()[:1000])",
   "outputs": [
    {
     "name": "stdout",
     "output_type": "stream",
     "text": [
      "<!DOCTYPE html>\n",
      "<html lang=\"en\">\n",
      " <!-- Initalize title and data source variables -->\n",
      " <head>\n",
      "  <!--\n",
      "\n",
      "    Hi! Welcome to our source code.\n",
      "\n",
      "    This dashboard uses data from the Digital Analytics Program, a US\n",
      "    government team inside the General Services Administration.\n",
      "\n",
      "\n",
      "    For a detailed tech breakdown of how 18F and friends built this site:\n",
      "\n",
      "    https://18f.gsa.gov/2015/03/19/how-we-built-analytics-usa-gov/\n",
      "\n",
      "\n",
      "    This is a fully open source project, and your contributions are welcome.\n",
      "\n",
      "    Frontend static site: https://github.com/18F/analytics.usa.gov\n",
      "    Backend data reporting: https://github.com/18F/analytics-reporter\n",
      "\n",
      "    -->\n",
      "  <meta charset=\"utf-8\"/>\n",
      "  <meta content=\"width=device-width, initial-scale=1\" name=\"viewport\"/>\n",
      "  <meta content=\"IE=Edge\" http-equiv=\"X-UA-Compatible\"/>\n",
      "  <meta content=\"NjbZn6hQe7OwV-nTsa6nLmtrOUcSGPRyFjxm5zkmCcg\" name=\"google-site-verification\"/>\n",
      "  <link href=\"/css/styles.css\" rel=\"stylesheet\"/>\n",
      "  <link href=\"/images/analytics-favicon.ico\" rel=\"icon\" t\n"
     ]
    }
   ],
   "execution_count": 26
  },
  {
   "metadata": {
    "ExecuteTime": {
     "end_time": "2024-09-18T13:16:09.012585Z",
     "start_time": "2024-09-18T13:16:08.998043Z"
    }
   },
   "cell_type": "code",
   "source": [
    "for link in soup.findAll(attrs={'href': re.compile('^http')}):\n",
    "    print(print(link))"
   ],
   "outputs": [
    {
     "name": "stdout",
     "output_type": "stream",
     "text": [
      "<link href=\"https://analytics.usa.gov\" rel=\"canonical\"/>\n",
      "None\n",
      "<a href=\"https://open.gsa.gov/api/dap/\" rel=\"noopener\" target=\"_blank\">API</a>\n",
      "None\n"
     ]
    }
   ],
   "execution_count": 30
  },
  {
   "metadata": {
    "ExecuteTime": {
     "end_time": "2024-09-18T13:22:25.330122Z",
     "start_time": "2024-09-18T13:22:25.311333Z"
    }
   },
   "cell_type": "code",
   "source": [
    "file = open('parsed_data.txt','w')\n",
    "for link in soup.findAll(attrs={'href': re.compile('^http')}):\n",
    "    soup_link = str(link)\n",
    "    print(soup_link)\n",
    "    file.write(soup_link + '\\n')\n",
    "file.flush()\n",
    "file.close()\n"
   ],
   "outputs": [
    {
     "name": "stdout",
     "output_type": "stream",
     "text": [
      "<link href=\"https://analytics.usa.gov\" rel=\"canonical\"/>\n",
      "<a href=\"https://open.gsa.gov/api/dap/\" rel=\"noopener\" target=\"_blank\">API</a>\n"
     ]
    }
   ],
   "execution_count": 38
  },
  {
   "metadata": {
    "ExecuteTime": {
     "end_time": "2024-09-18T13:20:58.341119Z",
     "start_time": "2024-09-18T13:20:58.335469Z"
    }
   },
   "cell_type": "code",
   "source": "%pwd",
   "outputs": [
    {
     "data": {
      "text/plain": [
       "'/home/or/Projects/python-for-data-science-and-machine-learning/my_notebooks'"
      ]
     },
     "execution_count": 34,
     "metadata": {},
     "output_type": "execute_result"
    }
   ],
   "execution_count": 34
  }
 ],
 "metadata": {
  "kernelspec": {
   "display_name": "Python 3",
   "language": "python",
   "name": "python3"
  },
  "language_info": {
   "codemirror_mode": {
    "name": "ipython",
    "version": 3
   },
   "file_extension": ".py",
   "mimetype": "text/x-python",
   "name": "python",
   "nbconvert_exporter": "python",
   "pygments_lexer": "ipython3",
   "version": "3.8.8"
  }
 },
 "nbformat": 4,
 "nbformat_minor": 1
}
